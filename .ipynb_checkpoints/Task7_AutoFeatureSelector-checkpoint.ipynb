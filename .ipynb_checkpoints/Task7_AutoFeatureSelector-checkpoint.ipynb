{
 "cells": [
  {
   "cell_type": "markdown",
   "metadata": {},
   "source": [
    "# Task 7: AutoFeatureSelector Tool\n",
    "## This task is to test your understanding of various Feature Selection methods outlined in the lecture and the ability to apply this knowledge in a real-world dataset to select best features and also to build an automated feature selection tool as your toolkit\n",
    "\n",
    "### Use your knowledge of different feature selector methods to build an Automatic Feature Selection tool\n",
    "- Pearson Correlation\n",
    "- Chi-Square\n",
    "- RFE\n",
    "- Embedded\n",
    "- Tree (Random Forest)\n",
    "- Tree (Light GBM)"
   ]
  },
  {
   "cell_type": "markdown",
   "metadata": {},
   "source": [
    "### Dataset: FIFA 19 Player Skills\n",
    "#### Attributes: FIFA 2019 players attributes like Age, Nationality, Overall, Potential, Club, Value, Wage, Preferred Foot, International Reputation, Weak Foot, Skill Moves, Work Rate, Position, Jersey Number, Joined, Loaned From, Contract Valid Until, Height, Weight, LS, ST, RS, LW, LF, CF, RF, RW, LAM, CAM, RAM, LM, LCM, CM, RCM, RM, LWB, LDM, CDM, RDM, RWB, LB, LCB, CB, RCB, RB, Crossing, Finishing, Heading, Accuracy, ShortPassing, Volleys, Dribbling, Curve, FKAccuracy, LongPassing, BallControl, Acceleration, SprintSpeed, Agility, Reactions, Balance, ShotPower, Jumping, Stamina, Strength, LongShots, Aggression, Interceptions, Positioning, Vision, Penalties, Composure, Marking, StandingTackle, SlidingTackle, GKDiving, GKHandling, GKKicking, GKPositioning, GKReflexes, and Release Clause."
   ]
  },
  {
   "cell_type": "code",
   "execution_count": 3,
   "metadata": {},
   "outputs": [],
   "source": [
    "%matplotlib inline\n",
    "import numpy as np\n",
    "import pandas as pd \n",
    "import seaborn as sns\n",
    "import matplotlib.pyplot as plt\n",
    "import scipy.stats as ss\n",
    "from collections import Counter\n",
    "import math\n",
    "from scipy import stats"
   ]
  },
  {
   "cell_type": "code",
   "execution_count": 4,
   "metadata": {},
   "outputs": [],
   "source": [
    "player_df = pd.read_csv(\"fifa19.csv\")"
   ]
  },
  {
   "cell_type": "code",
   "execution_count": 5,
   "metadata": {},
   "outputs": [],
   "source": [
    "numcols = ['Overall', 'Crossing','Finishing',  'ShortPassing',  'Dribbling','LongPassing', 'BallControl', 'Acceleration','SprintSpeed', 'Agility',  'Stamina','Volleys','FKAccuracy','Reactions','Balance','ShotPower','Strength','LongShots','Aggression','Interceptions']\n",
    "catcols = ['Preferred Foot','Position','Body Type','Nationality','Weak Foot']"
   ]
  },
  {
   "cell_type": "code",
   "execution_count": 6,
   "metadata": {},
   "outputs": [],
   "source": [
    "player_df = player_df[numcols+catcols]"
   ]
  },
  {
   "cell_type": "code",
   "execution_count": 7,
   "metadata": {},
   "outputs": [],
   "source": [
    "traindf = pd.concat([player_df[numcols], pd.get_dummies(player_df[catcols])],axis=1)\n",
    "features = traindf.columns\n",
    "\n",
    "traindf = traindf.dropna()"
   ]
  },
  {
   "cell_type": "code",
   "execution_count": 8,
   "metadata": {},
   "outputs": [],
   "source": [
    "traindf = pd.DataFrame(traindf,columns=features)"
   ]
  },
  {
   "cell_type": "code",
   "execution_count": 9,
   "metadata": {},
   "outputs": [],
   "source": [
    "y = traindf['Overall']>=87\n",
    "X = traindf.copy()\n",
    "del X['Overall']"
   ]
  },
  {
   "cell_type": "code",
   "execution_count": 10,
   "metadata": {},
   "outputs": [
    {
     "data": {
      "text/html": [
       "<div>\n",
       "<style scoped>\n",
       "    .dataframe tbody tr th:only-of-type {\n",
       "        vertical-align: middle;\n",
       "    }\n",
       "\n",
       "    .dataframe tbody tr th {\n",
       "        vertical-align: top;\n",
       "    }\n",
       "\n",
       "    .dataframe thead th {\n",
       "        text-align: right;\n",
       "    }\n",
       "</style>\n",
       "<table border=\"1\" class=\"dataframe\">\n",
       "  <thead>\n",
       "    <tr style=\"text-align: right;\">\n",
       "      <th></th>\n",
       "      <th>Crossing</th>\n",
       "      <th>Finishing</th>\n",
       "      <th>ShortPassing</th>\n",
       "      <th>Dribbling</th>\n",
       "      <th>LongPassing</th>\n",
       "      <th>BallControl</th>\n",
       "      <th>Acceleration</th>\n",
       "      <th>SprintSpeed</th>\n",
       "      <th>Agility</th>\n",
       "      <th>Stamina</th>\n",
       "      <th>...</th>\n",
       "      <th>Nationality_Uganda</th>\n",
       "      <th>Nationality_Ukraine</th>\n",
       "      <th>Nationality_United Arab Emirates</th>\n",
       "      <th>Nationality_United States</th>\n",
       "      <th>Nationality_Uruguay</th>\n",
       "      <th>Nationality_Uzbekistan</th>\n",
       "      <th>Nationality_Venezuela</th>\n",
       "      <th>Nationality_Wales</th>\n",
       "      <th>Nationality_Zambia</th>\n",
       "      <th>Nationality_Zimbabwe</th>\n",
       "    </tr>\n",
       "  </thead>\n",
       "  <tbody>\n",
       "    <tr>\n",
       "      <th>0</th>\n",
       "      <td>84.0</td>\n",
       "      <td>95.0</td>\n",
       "      <td>90.0</td>\n",
       "      <td>97.0</td>\n",
       "      <td>87.0</td>\n",
       "      <td>96.0</td>\n",
       "      <td>91.0</td>\n",
       "      <td>86.0</td>\n",
       "      <td>91.0</td>\n",
       "      <td>72.0</td>\n",
       "      <td>...</td>\n",
       "      <td>False</td>\n",
       "      <td>False</td>\n",
       "      <td>False</td>\n",
       "      <td>False</td>\n",
       "      <td>False</td>\n",
       "      <td>False</td>\n",
       "      <td>False</td>\n",
       "      <td>False</td>\n",
       "      <td>False</td>\n",
       "      <td>False</td>\n",
       "    </tr>\n",
       "    <tr>\n",
       "      <th>1</th>\n",
       "      <td>84.0</td>\n",
       "      <td>94.0</td>\n",
       "      <td>81.0</td>\n",
       "      <td>88.0</td>\n",
       "      <td>77.0</td>\n",
       "      <td>94.0</td>\n",
       "      <td>89.0</td>\n",
       "      <td>91.0</td>\n",
       "      <td>87.0</td>\n",
       "      <td>88.0</td>\n",
       "      <td>...</td>\n",
       "      <td>False</td>\n",
       "      <td>False</td>\n",
       "      <td>False</td>\n",
       "      <td>False</td>\n",
       "      <td>False</td>\n",
       "      <td>False</td>\n",
       "      <td>False</td>\n",
       "      <td>False</td>\n",
       "      <td>False</td>\n",
       "      <td>False</td>\n",
       "    </tr>\n",
       "    <tr>\n",
       "      <th>2</th>\n",
       "      <td>79.0</td>\n",
       "      <td>87.0</td>\n",
       "      <td>84.0</td>\n",
       "      <td>96.0</td>\n",
       "      <td>78.0</td>\n",
       "      <td>95.0</td>\n",
       "      <td>94.0</td>\n",
       "      <td>90.0</td>\n",
       "      <td>96.0</td>\n",
       "      <td>81.0</td>\n",
       "      <td>...</td>\n",
       "      <td>False</td>\n",
       "      <td>False</td>\n",
       "      <td>False</td>\n",
       "      <td>False</td>\n",
       "      <td>False</td>\n",
       "      <td>False</td>\n",
       "      <td>False</td>\n",
       "      <td>False</td>\n",
       "      <td>False</td>\n",
       "      <td>False</td>\n",
       "    </tr>\n",
       "    <tr>\n",
       "      <th>3</th>\n",
       "      <td>17.0</td>\n",
       "      <td>13.0</td>\n",
       "      <td>50.0</td>\n",
       "      <td>18.0</td>\n",
       "      <td>51.0</td>\n",
       "      <td>42.0</td>\n",
       "      <td>57.0</td>\n",
       "      <td>58.0</td>\n",
       "      <td>60.0</td>\n",
       "      <td>43.0</td>\n",
       "      <td>...</td>\n",
       "      <td>False</td>\n",
       "      <td>False</td>\n",
       "      <td>False</td>\n",
       "      <td>False</td>\n",
       "      <td>False</td>\n",
       "      <td>False</td>\n",
       "      <td>False</td>\n",
       "      <td>False</td>\n",
       "      <td>False</td>\n",
       "      <td>False</td>\n",
       "    </tr>\n",
       "    <tr>\n",
       "      <th>4</th>\n",
       "      <td>93.0</td>\n",
       "      <td>82.0</td>\n",
       "      <td>92.0</td>\n",
       "      <td>86.0</td>\n",
       "      <td>91.0</td>\n",
       "      <td>91.0</td>\n",
       "      <td>78.0</td>\n",
       "      <td>76.0</td>\n",
       "      <td>79.0</td>\n",
       "      <td>90.0</td>\n",
       "      <td>...</td>\n",
       "      <td>False</td>\n",
       "      <td>False</td>\n",
       "      <td>False</td>\n",
       "      <td>False</td>\n",
       "      <td>False</td>\n",
       "      <td>False</td>\n",
       "      <td>False</td>\n",
       "      <td>False</td>\n",
       "      <td>False</td>\n",
       "      <td>False</td>\n",
       "    </tr>\n",
       "  </tbody>\n",
       "</table>\n",
       "<p>5 rows × 223 columns</p>\n",
       "</div>"
      ],
      "text/plain": [
       "   Crossing  Finishing  ShortPassing  Dribbling  LongPassing  BallControl  \\\n",
       "0      84.0       95.0          90.0       97.0         87.0         96.0   \n",
       "1      84.0       94.0          81.0       88.0         77.0         94.0   \n",
       "2      79.0       87.0          84.0       96.0         78.0         95.0   \n",
       "3      17.0       13.0          50.0       18.0         51.0         42.0   \n",
       "4      93.0       82.0          92.0       86.0         91.0         91.0   \n",
       "\n",
       "   Acceleration  SprintSpeed  Agility  Stamina  ...  Nationality_Uganda  \\\n",
       "0          91.0         86.0     91.0     72.0  ...               False   \n",
       "1          89.0         91.0     87.0     88.0  ...               False   \n",
       "2          94.0         90.0     96.0     81.0  ...               False   \n",
       "3          57.0         58.0     60.0     43.0  ...               False   \n",
       "4          78.0         76.0     79.0     90.0  ...               False   \n",
       "\n",
       "   Nationality_Ukraine  Nationality_United Arab Emirates  \\\n",
       "0                False                             False   \n",
       "1                False                             False   \n",
       "2                False                             False   \n",
       "3                False                             False   \n",
       "4                False                             False   \n",
       "\n",
       "   Nationality_United States  Nationality_Uruguay  Nationality_Uzbekistan  \\\n",
       "0                      False                False                   False   \n",
       "1                      False                False                   False   \n",
       "2                      False                False                   False   \n",
       "3                      False                False                   False   \n",
       "4                      False                False                   False   \n",
       "\n",
       "   Nationality_Venezuela  Nationality_Wales  Nationality_Zambia  \\\n",
       "0                  False              False               False   \n",
       "1                  False              False               False   \n",
       "2                  False              False               False   \n",
       "3                  False              False               False   \n",
       "4                  False              False               False   \n",
       "\n",
       "   Nationality_Zimbabwe  \n",
       "0                 False  \n",
       "1                 False  \n",
       "2                 False  \n",
       "3                 False  \n",
       "4                 False  \n",
       "\n",
       "[5 rows x 223 columns]"
      ]
     },
     "execution_count": 10,
     "metadata": {},
     "output_type": "execute_result"
    }
   ],
   "source": [
    "X.head()"
   ]
  },
  {
   "cell_type": "code",
   "execution_count": 11,
   "metadata": {},
   "outputs": [
    {
     "data": {
      "text/plain": [
       "223"
      ]
     },
     "execution_count": 11,
     "metadata": {},
     "output_type": "execute_result"
    }
   ],
   "source": [
    "len(X.columns)"
   ]
  },
  {
   "cell_type": "code",
   "execution_count": 12,
   "metadata": {},
   "outputs": [
    {
     "data": {
      "text/plain": [
       "(18159, 223)"
      ]
     },
     "execution_count": 12,
     "metadata": {},
     "output_type": "execute_result"
    }
   ],
   "source": [
    "X.shape"
   ]
  },
  {
   "cell_type": "markdown",
   "metadata": {},
   "source": [
    "### Set some fixed set of features"
   ]
  },
  {
   "cell_type": "code",
   "execution_count": 14,
   "metadata": {},
   "outputs": [],
   "source": [
    "feature_name = list(X.columns)\n",
    "# no of maximum features we need to select\n",
    "num_feats=30"
   ]
  },
  {
   "cell_type": "markdown",
   "metadata": {},
   "source": [
    "## Filter Feature Selection - Pearson Correlation"
   ]
  },
  {
   "cell_type": "markdown",
   "metadata": {},
   "source": [
    "### Pearson Correlation function"
   ]
  },
  {
   "cell_type": "code",
   "execution_count": 17,
   "metadata": {},
   "outputs": [],
   "source": [
    "def cor_selector(X, y,num_feats):\n",
    "    # list of features\n",
    "    feats = X.keys().tolist()\n",
    "\n",
    "    # measures correlation between every feature and y\n",
    "    corr_vals = []\n",
    "    for f in X:\n",
    "        corr_vals.append(np.corrcoef(x=X[f], y=y)[0,1])\n",
    "\n",
    "    # selects to feat_num features\n",
    "    best_feat = X.iloc[:,np.argsort(np.abs(corr_vals))[-num_feats:]].columns.tolist()\n",
    "\n",
    "    # list of bools for which features in X are selected\n",
    "    corr_support = [True if i in best_feat else False for i in feats]\n",
    "    return corr_support, best_feat"
   ]
  },
  {
   "cell_type": "code",
   "execution_count": 18,
   "metadata": {},
   "outputs": [
    {
     "name": "stdout",
     "output_type": "stream",
     "text": [
      "30 selected features\n"
     ]
    }
   ],
   "source": [
    "cor_support, cor_feature = cor_selector(X, y,num_feats)\n",
    "print(str(len(cor_feature)), 'selected features')"
   ]
  },
  {
   "cell_type": "markdown",
   "metadata": {},
   "source": [
    "### List the selected features from Pearson Correlation"
   ]
  },
  {
   "cell_type": "code",
   "execution_count": 20,
   "metadata": {},
   "outputs": [
    {
     "data": {
      "text/plain": [
       "['Nationality_Costa Rica',\n",
       " 'Position_LAM',\n",
       " 'Nationality_Uruguay',\n",
       " 'Acceleration',\n",
       " 'SprintSpeed',\n",
       " 'Strength',\n",
       " 'Nationality_Gabon',\n",
       " 'Nationality_Slovenia',\n",
       " 'Stamina',\n",
       " 'Weak Foot',\n",
       " 'Agility',\n",
       " 'Crossing',\n",
       " 'Nationality_Belgium',\n",
       " 'Dribbling',\n",
       " 'ShotPower',\n",
       " 'LongShots',\n",
       " 'Finishing',\n",
       " 'BallControl',\n",
       " 'FKAccuracy',\n",
       " 'LongPassing',\n",
       " 'Volleys',\n",
       " 'ShortPassing',\n",
       " 'Position_RF',\n",
       " 'Position_LF',\n",
       " 'Body Type_PLAYER_BODY_TYPE_25',\n",
       " 'Body Type_Courtois',\n",
       " 'Body Type_Neymar',\n",
       " 'Body Type_Messi',\n",
       " 'Body Type_C. Ronaldo',\n",
       " 'Reactions']"
      ]
     },
     "execution_count": 20,
     "metadata": {},
     "output_type": "execute_result"
    }
   ],
   "source": [
    "cor_feature"
   ]
  },
  {
   "cell_type": "markdown",
   "metadata": {},
   "source": [
    "## Filter Feature Selection - Chi-Sqaure"
   ]
  },
  {
   "cell_type": "code",
   "execution_count": 22,
   "metadata": {},
   "outputs": [],
   "source": [
    "from sklearn.feature_selection import SelectKBest\n",
    "from sklearn.feature_selection import chi2\n",
    "from sklearn.preprocessing import MinMaxScaler"
   ]
  },
  {
   "cell_type": "markdown",
   "metadata": {},
   "source": [
    "### Chi-Squared Selector function"
   ]
  },
  {
   "cell_type": "code",
   "execution_count": 24,
   "metadata": {},
   "outputs": [],
   "source": [
    "def chi_squared_selector(X, y, num_feats):\n",
    "    # creates chi-sq. selector function and trains it on normalized data\n",
    "    chi_sel = SelectKBest(chi2, k=num_feats)\n",
    "    x_norm = MinMaxScaler().fit_transform(X)\n",
    "    chi_sel.fit(x_norm, y)\n",
    "\n",
    "    # gets num_feats best columns from chi_sel\n",
    "    chi_support = chi_sel.get_support()\n",
    "    chi_feat = X.loc[:,chi_support].columns.to_list()\n",
    "    \n",
    "    return chi_support, chi_feat"
   ]
  },
  {
   "cell_type": "code",
   "execution_count": 25,
   "metadata": {},
   "outputs": [
    {
     "name": "stdout",
     "output_type": "stream",
     "text": [
      "30 selected features\n"
     ]
    }
   ],
   "source": [
    "chi_support, chi_feature = chi_squared_selector(X, y,num_feats)\n",
    "print(str(len(chi_feature)), 'selected features')"
   ]
  },
  {
   "cell_type": "markdown",
   "metadata": {},
   "source": [
    "### List the selected features from Chi-Square "
   ]
  },
  {
   "cell_type": "code",
   "execution_count": 27,
   "metadata": {},
   "outputs": [
    {
     "data": {
      "text/plain": [
       "['Finishing',\n",
       " 'ShortPassing',\n",
       " 'LongPassing',\n",
       " 'BallControl',\n",
       " 'Volleys',\n",
       " 'FKAccuracy',\n",
       " 'Reactions',\n",
       " 'LongShots',\n",
       " 'Position_CM',\n",
       " 'Position_LAM',\n",
       " 'Position_LF',\n",
       " 'Position_LW',\n",
       " 'Position_RB',\n",
       " 'Position_RF',\n",
       " 'Body Type_C. Ronaldo',\n",
       " 'Body Type_Courtois',\n",
       " 'Body Type_Messi',\n",
       " 'Body Type_Neymar',\n",
       " 'Body Type_PLAYER_BODY_TYPE_25',\n",
       " 'Nationality_Belgium',\n",
       " 'Nationality_Costa Rica',\n",
       " 'Nationality_Croatia',\n",
       " 'Nationality_Egypt',\n",
       " 'Nationality_England',\n",
       " 'Nationality_France',\n",
       " 'Nationality_Gabon',\n",
       " 'Nationality_Slovakia',\n",
       " 'Nationality_Slovenia',\n",
       " 'Nationality_Spain',\n",
       " 'Nationality_Uruguay']"
      ]
     },
     "execution_count": 27,
     "metadata": {},
     "output_type": "execute_result"
    }
   ],
   "source": [
    "chi_feature"
   ]
  },
  {
   "cell_type": "markdown",
   "metadata": {},
   "source": [
    "## Wrapper Feature Selection - Recursive Feature Elimination"
   ]
  },
  {
   "cell_type": "code",
   "execution_count": 29,
   "metadata": {},
   "outputs": [],
   "source": [
    "from sklearn.feature_selection import RFE\n",
    "from sklearn.linear_model import LogisticRegression\n",
    "from sklearn.preprocessing import MinMaxScaler"
   ]
  },
  {
   "cell_type": "markdown",
   "metadata": {},
   "source": [
    "### RFE Selector function"
   ]
  },
  {
   "cell_type": "code",
   "execution_count": 117,
   "metadata": {},
   "outputs": [],
   "source": [
    "def rfe_selector(X, y, num_feats):\n",
    "    # creates and trains rfe on normalized data\n",
    "    rfe_sel = RFE(estimator=LogisticRegression(max_iter=100), n_features_to_select=num_feats, step=0.05)\n",
    "    x_norm = MinMaxScaler().fit_transform(X)\n",
    "    rfe_sel.fit(x_norm, y=y)\n",
    "\n",
    "    # gets support and feature lists\n",
    "    rfe_support = rfe_sel.get_support()\n",
    "    rfe_feat = X.loc[:,rfe_support].columns.to_list()\n",
    "    \n",
    "    return rfe_support, rfe_feat"
   ]
  },
  {
   "cell_type": "code",
   "execution_count": 119,
   "metadata": {},
   "outputs": [
    {
     "name": "stdout",
     "output_type": "stream",
     "text": [
      "30 selected features\n"
     ]
    }
   ],
   "source": [
    "rfe_support, rfe_feature = rfe_selector(X, y,num_feats)\n",
    "print(str(len(rfe_feature)), 'selected features')"
   ]
  },
  {
   "cell_type": "markdown",
   "metadata": {},
   "source": [
    "### List the selected features from RFE"
   ]
  },
  {
   "cell_type": "code",
   "execution_count": 122,
   "metadata": {},
   "outputs": [
    {
     "data": {
      "text/plain": [
       "['Finishing',\n",
       " 'ShortPassing',\n",
       " 'LongPassing',\n",
       " 'BallControl',\n",
       " 'Acceleration',\n",
       " 'SprintSpeed',\n",
       " 'Agility',\n",
       " 'Volleys',\n",
       " 'Reactions',\n",
       " 'Strength',\n",
       " 'Position_CM',\n",
       " 'Position_GK',\n",
       " 'Position_LAM',\n",
       " 'Position_LCB',\n",
       " 'Position_LM',\n",
       " 'Position_LW',\n",
       " 'Position_RB',\n",
       " 'Position_RCB',\n",
       " 'Position_RW',\n",
       " 'Body Type_Lean',\n",
       " 'Body Type_Normal',\n",
       " 'Body Type_Stocky',\n",
       " 'Nationality_Belgium',\n",
       " 'Nationality_Costa Rica',\n",
       " 'Nationality_Croatia',\n",
       " 'Nationality_Gabon',\n",
       " 'Nationality_Netherlands',\n",
       " 'Nationality_Slovenia',\n",
       " 'Nationality_Uruguay',\n",
       " 'Nationality_Wales']"
      ]
     },
     "execution_count": 122,
     "metadata": {},
     "output_type": "execute_result"
    }
   ],
   "source": [
    "rfe_feature"
   ]
  },
  {
   "cell_type": "markdown",
   "metadata": {},
   "source": [
    "## Embedded Selection - Lasso: SelectFromModel"
   ]
  },
  {
   "cell_type": "code",
   "execution_count": 125,
   "metadata": {},
   "outputs": [],
   "source": [
    "from sklearn.feature_selection import SelectFromModel\n",
    "from sklearn.linear_model import LogisticRegression\n",
    "from sklearn.preprocessing import MinMaxScaler"
   ]
  },
  {
   "cell_type": "code",
   "execution_count": 127,
   "metadata": {},
   "outputs": [],
   "source": [
    "def embedded_log_reg_selector(X, y, num_feats):\n",
    "    # creates and trains embedded logistic regression on normalized data\n",
    "    elr_sel = SelectFromModel(estimator=LogisticRegression(max_iter=100), max_features=num_feats)\n",
    "    x_norm = MinMaxScaler().fit_transform(X)\n",
    "    elr_sel.fit(x_norm, y=y)\n",
    "\n",
    "    # gets support and feature lists\n",
    "    embedded_lr_support = elr_sel.get_support()\n",
    "    embedded_lr_feat = X.loc[:,embedded_lr_support].columns.to_list()\n",
    "    \n",
    "    return embedded_lr_support, embedded_lr_feat"
   ]
  },
  {
   "cell_type": "code",
   "execution_count": 129,
   "metadata": {},
   "outputs": [
    {
     "name": "stdout",
     "output_type": "stream",
     "text": [
      "30 selected features\n"
     ]
    }
   ],
   "source": [
    "embedded_lr_support, embedded_lr_feature = embedded_log_reg_selector(X, y, num_feats)\n",
    "print(str(len(embedded_lr_feature)), 'selected features')"
   ]
  },
  {
   "cell_type": "code",
   "execution_count": 131,
   "metadata": {},
   "outputs": [
    {
     "data": {
      "text/plain": [
       "['Finishing',\n",
       " 'ShortPassing',\n",
       " 'LongPassing',\n",
       " 'BallControl',\n",
       " 'SprintSpeed',\n",
       " 'Agility',\n",
       " 'Volleys',\n",
       " 'Reactions',\n",
       " 'Strength',\n",
       " 'Preferred Foot_Right',\n",
       " 'Position_CM',\n",
       " 'Position_GK',\n",
       " 'Position_LCB',\n",
       " 'Position_LM',\n",
       " 'Position_RB',\n",
       " 'Position_RCB',\n",
       " 'Position_RM',\n",
       " 'Position_RW',\n",
       " 'Body Type_Lean',\n",
       " 'Body Type_Stocky',\n",
       " 'Nationality_Belgium',\n",
       " 'Nationality_Costa Rica',\n",
       " 'Nationality_Croatia',\n",
       " 'Nationality_Gabon',\n",
       " 'Nationality_Netherlands',\n",
       " 'Nationality_Portugal',\n",
       " 'Nationality_Slovakia',\n",
       " 'Nationality_Slovenia',\n",
       " 'Nationality_Uruguay',\n",
       " 'Nationality_Wales']"
      ]
     },
     "execution_count": 131,
     "metadata": {},
     "output_type": "execute_result"
    }
   ],
   "source": [
    "embedded_lr_feature"
   ]
  },
  {
   "cell_type": "markdown",
   "metadata": {},
   "source": [
    "## Tree based(Random Forest): SelectFromModel"
   ]
  },
  {
   "cell_type": "code",
   "execution_count": 134,
   "metadata": {},
   "outputs": [],
   "source": [
    "from sklearn.feature_selection import SelectFromModel\n",
    "from sklearn.ensemble import RandomForestClassifier"
   ]
  },
  {
   "cell_type": "code",
   "execution_count": 136,
   "metadata": {},
   "outputs": [],
   "source": [
    "def embedded_rf_selector(X, y, num_feats):\n",
    "    # creates and trains embedded rf classifier on normalized data\n",
    "    erf_sel = SelectFromModel(estimator=RandomForestClassifier(n_estimators=100, min_samples_split=5), max_features=num_feats)\n",
    "    x_norm = MinMaxScaler().fit_transform(X)\n",
    "    erf_sel.fit(x_norm, y=y)\n",
    "\n",
    "    # gets support and feature lists\n",
    "    embedded_rf_support = erf_sel.get_support()\n",
    "    embedded_rf_feat = X.loc[:,embedded_rf_support].columns.to_list()\n",
    "    \n",
    "    return embedded_rf_support, embedded_rf_feat"
   ]
  },
  {
   "cell_type": "code",
   "execution_count": 138,
   "metadata": {},
   "outputs": [
    {
     "name": "stdout",
     "output_type": "stream",
     "text": [
      "23 selected features\n"
     ]
    }
   ],
   "source": [
    "embedded_rf_support, embedded_rf_feature = embedded_rf_selector(X, y, num_feats)\n",
    "print(str(len(embedded_rf_feature)), 'selected features')"
   ]
  },
  {
   "cell_type": "code",
   "execution_count": 140,
   "metadata": {},
   "outputs": [
    {
     "data": {
      "text/plain": [
       "['Crossing',\n",
       " 'Finishing',\n",
       " 'ShortPassing',\n",
       " 'Dribbling',\n",
       " 'LongPassing',\n",
       " 'BallControl',\n",
       " 'Acceleration',\n",
       " 'SprintSpeed',\n",
       " 'Agility',\n",
       " 'Stamina',\n",
       " 'Volleys',\n",
       " 'FKAccuracy',\n",
       " 'Reactions',\n",
       " 'Balance',\n",
       " 'ShotPower',\n",
       " 'Strength',\n",
       " 'LongShots',\n",
       " 'Aggression',\n",
       " 'Interceptions',\n",
       " 'Weak Foot',\n",
       " 'Body Type_Courtois',\n",
       " 'Nationality_Germany',\n",
       " 'Nationality_Slovenia']"
      ]
     },
     "execution_count": 140,
     "metadata": {},
     "output_type": "execute_result"
    }
   ],
   "source": [
    "embedded_rf_feature"
   ]
  },
  {
   "cell_type": "markdown",
   "metadata": {},
   "source": [
    "## Tree based(Light GBM): SelectFromModel"
   ]
  },
  {
   "cell_type": "code",
   "execution_count": 143,
   "metadata": {},
   "outputs": [],
   "source": [
    "from sklearn.feature_selection import SelectFromModel\n",
    "from lightgbm import LGBMClassifier"
   ]
  },
  {
   "cell_type": "code",
   "execution_count": 145,
   "metadata": {},
   "outputs": [],
   "source": [
    "def embedded_lgbm_selector(X, y, num_feats):\n",
    "    # creates and trains embedded lgbm classifier on normalized data\n",
    "    elgbm_sel = SelectFromModel(estimator=LGBMClassifier(), max_features=num_feats)\n",
    "    x_norm = MinMaxScaler().fit_transform(X)\n",
    "    elgbm_sel.fit(x_norm, y=y)\n",
    "\n",
    "    # gets support and feature lists\n",
    "    embedded_lgbm_support = elgbm_sel.get_support()\n",
    "    embedded_lgbm_feat = X.loc[:,embedded_lgbm_support].columns.to_list()\n",
    "    \n",
    "    return embedded_lgbm_support, embedded_lgbm_feat"
   ]
  },
  {
   "cell_type": "code",
   "execution_count": 147,
   "metadata": {},
   "outputs": [
    {
     "name": "stdout",
     "output_type": "stream",
     "text": [
      "[LightGBM] [Info] Number of positive: 55, number of negative: 18104\n",
      "[LightGBM] [Info] Auto-choosing col-wise multi-threading, the overhead of testing was 0.002621 seconds.\n",
      "You can set `force_col_wise=true` to remove the overhead.\n",
      "[LightGBM] [Info] Total Bins 1801\n",
      "[LightGBM] [Info] Number of data points in the train set: 18159, number of used features: 124\n",
      "[LightGBM] [Info] [binary:BoostFromScore]: pavg=0.003029 -> initscore=-5.796555\n",
      "[LightGBM] [Info] Start training from score -5.796555\n",
      "[LightGBM] [Warning] No further splits with positive gain, best gain: -inf\n",
      "[LightGBM] [Warning] No further splits with positive gain, best gain: -inf\n",
      "[LightGBM] [Warning] No further splits with positive gain, best gain: -inf\n",
      "[LightGBM] [Warning] No further splits with positive gain, best gain: -inf\n",
      "[LightGBM] [Warning] No further splits with positive gain, best gain: -inf\n",
      "[LightGBM] [Warning] No further splits with positive gain, best gain: -inf\n",
      "[LightGBM] [Warning] No further splits with positive gain, best gain: -inf\n",
      "[LightGBM] [Warning] No further splits with positive gain, best gain: -inf\n",
      "[LightGBM] [Warning] No further splits with positive gain, best gain: -inf\n",
      "22 selected features\n"
     ]
    }
   ],
   "source": [
    "embedded_lgbm_support, embedded_lgbm_feature = embedded_lgbm_selector(X, y, num_feats)\n",
    "print(str(len(embedded_lgbm_feature)), 'selected features')"
   ]
  },
  {
   "cell_type": "code",
   "execution_count": 149,
   "metadata": {},
   "outputs": [
    {
     "data": {
      "text/plain": [
       "['Crossing',\n",
       " 'Finishing',\n",
       " 'ShortPassing',\n",
       " 'Dribbling',\n",
       " 'LongPassing',\n",
       " 'BallControl',\n",
       " 'Acceleration',\n",
       " 'SprintSpeed',\n",
       " 'Agility',\n",
       " 'Stamina',\n",
       " 'Volleys',\n",
       " 'FKAccuracy',\n",
       " 'Reactions',\n",
       " 'Balance',\n",
       " 'ShotPower',\n",
       " 'Strength',\n",
       " 'LongShots',\n",
       " 'Aggression',\n",
       " 'Interceptions',\n",
       " 'Position_LCB',\n",
       " 'Body Type_Lean',\n",
       " 'Nationality_Italy']"
      ]
     },
     "execution_count": 149,
     "metadata": {},
     "output_type": "execute_result"
    }
   ],
   "source": [
    "embedded_lgbm_feature"
   ]
  },
  {
   "cell_type": "markdown",
   "metadata": {},
   "source": [
    "## Putting all of it together: AutoFeatureSelector Tool"
   ]
  },
  {
   "cell_type": "code",
   "execution_count": 152,
   "metadata": {},
   "outputs": [
    {
     "data": {
      "text/html": [
       "<div>\n",
       "<style scoped>\n",
       "    .dataframe tbody tr th:only-of-type {\n",
       "        vertical-align: middle;\n",
       "    }\n",
       "\n",
       "    .dataframe tbody tr th {\n",
       "        vertical-align: top;\n",
       "    }\n",
       "\n",
       "    .dataframe thead th {\n",
       "        text-align: right;\n",
       "    }\n",
       "</style>\n",
       "<table border=\"1\" class=\"dataframe\">\n",
       "  <thead>\n",
       "    <tr style=\"text-align: right;\">\n",
       "      <th></th>\n",
       "      <th>Feature</th>\n",
       "      <th>Pearson</th>\n",
       "      <th>Chi-2</th>\n",
       "      <th>RFE</th>\n",
       "      <th>Logistics</th>\n",
       "      <th>Random Forest</th>\n",
       "      <th>LightGBM</th>\n",
       "      <th>Total</th>\n",
       "    </tr>\n",
       "  </thead>\n",
       "  <tbody>\n",
       "    <tr>\n",
       "      <th>1</th>\n",
       "      <td>Volleys</td>\n",
       "      <td>True</td>\n",
       "      <td>True</td>\n",
       "      <td>True</td>\n",
       "      <td>True</td>\n",
       "      <td>True</td>\n",
       "      <td>True</td>\n",
       "      <td>6</td>\n",
       "    </tr>\n",
       "    <tr>\n",
       "      <th>2</th>\n",
       "      <td>ShortPassing</td>\n",
       "      <td>True</td>\n",
       "      <td>True</td>\n",
       "      <td>True</td>\n",
       "      <td>True</td>\n",
       "      <td>True</td>\n",
       "      <td>True</td>\n",
       "      <td>6</td>\n",
       "    </tr>\n",
       "    <tr>\n",
       "      <th>3</th>\n",
       "      <td>Reactions</td>\n",
       "      <td>True</td>\n",
       "      <td>True</td>\n",
       "      <td>True</td>\n",
       "      <td>True</td>\n",
       "      <td>True</td>\n",
       "      <td>True</td>\n",
       "      <td>6</td>\n",
       "    </tr>\n",
       "    <tr>\n",
       "      <th>4</th>\n",
       "      <td>LongPassing</td>\n",
       "      <td>True</td>\n",
       "      <td>True</td>\n",
       "      <td>True</td>\n",
       "      <td>True</td>\n",
       "      <td>True</td>\n",
       "      <td>True</td>\n",
       "      <td>6</td>\n",
       "    </tr>\n",
       "    <tr>\n",
       "      <th>5</th>\n",
       "      <td>Finishing</td>\n",
       "      <td>True</td>\n",
       "      <td>True</td>\n",
       "      <td>True</td>\n",
       "      <td>True</td>\n",
       "      <td>True</td>\n",
       "      <td>True</td>\n",
       "      <td>6</td>\n",
       "    </tr>\n",
       "    <tr>\n",
       "      <th>6</th>\n",
       "      <td>BallControl</td>\n",
       "      <td>True</td>\n",
       "      <td>True</td>\n",
       "      <td>True</td>\n",
       "      <td>True</td>\n",
       "      <td>True</td>\n",
       "      <td>True</td>\n",
       "      <td>6</td>\n",
       "    </tr>\n",
       "    <tr>\n",
       "      <th>7</th>\n",
       "      <td>Strength</td>\n",
       "      <td>True</td>\n",
       "      <td>False</td>\n",
       "      <td>True</td>\n",
       "      <td>True</td>\n",
       "      <td>True</td>\n",
       "      <td>True</td>\n",
       "      <td>5</td>\n",
       "    </tr>\n",
       "    <tr>\n",
       "      <th>8</th>\n",
       "      <td>SprintSpeed</td>\n",
       "      <td>True</td>\n",
       "      <td>False</td>\n",
       "      <td>True</td>\n",
       "      <td>True</td>\n",
       "      <td>True</td>\n",
       "      <td>True</td>\n",
       "      <td>5</td>\n",
       "    </tr>\n",
       "    <tr>\n",
       "      <th>9</th>\n",
       "      <td>Nationality_Slovenia</td>\n",
       "      <td>True</td>\n",
       "      <td>True</td>\n",
       "      <td>True</td>\n",
       "      <td>True</td>\n",
       "      <td>True</td>\n",
       "      <td>False</td>\n",
       "      <td>5</td>\n",
       "    </tr>\n",
       "    <tr>\n",
       "      <th>10</th>\n",
       "      <td>Agility</td>\n",
       "      <td>True</td>\n",
       "      <td>False</td>\n",
       "      <td>True</td>\n",
       "      <td>True</td>\n",
       "      <td>True</td>\n",
       "      <td>True</td>\n",
       "      <td>5</td>\n",
       "    </tr>\n",
       "    <tr>\n",
       "      <th>11</th>\n",
       "      <td>Nationality_Uruguay</td>\n",
       "      <td>True</td>\n",
       "      <td>True</td>\n",
       "      <td>True</td>\n",
       "      <td>True</td>\n",
       "      <td>False</td>\n",
       "      <td>False</td>\n",
       "      <td>4</td>\n",
       "    </tr>\n",
       "    <tr>\n",
       "      <th>12</th>\n",
       "      <td>Nationality_Gabon</td>\n",
       "      <td>True</td>\n",
       "      <td>True</td>\n",
       "      <td>True</td>\n",
       "      <td>True</td>\n",
       "      <td>False</td>\n",
       "      <td>False</td>\n",
       "      <td>4</td>\n",
       "    </tr>\n",
       "    <tr>\n",
       "      <th>13</th>\n",
       "      <td>Nationality_Costa Rica</td>\n",
       "      <td>True</td>\n",
       "      <td>True</td>\n",
       "      <td>True</td>\n",
       "      <td>True</td>\n",
       "      <td>False</td>\n",
       "      <td>False</td>\n",
       "      <td>4</td>\n",
       "    </tr>\n",
       "    <tr>\n",
       "      <th>14</th>\n",
       "      <td>Nationality_Belgium</td>\n",
       "      <td>True</td>\n",
       "      <td>True</td>\n",
       "      <td>True</td>\n",
       "      <td>True</td>\n",
       "      <td>False</td>\n",
       "      <td>False</td>\n",
       "      <td>4</td>\n",
       "    </tr>\n",
       "    <tr>\n",
       "      <th>15</th>\n",
       "      <td>LongShots</td>\n",
       "      <td>True</td>\n",
       "      <td>True</td>\n",
       "      <td>False</td>\n",
       "      <td>False</td>\n",
       "      <td>True</td>\n",
       "      <td>True</td>\n",
       "      <td>4</td>\n",
       "    </tr>\n",
       "    <tr>\n",
       "      <th>16</th>\n",
       "      <td>FKAccuracy</td>\n",
       "      <td>True</td>\n",
       "      <td>True</td>\n",
       "      <td>False</td>\n",
       "      <td>False</td>\n",
       "      <td>True</td>\n",
       "      <td>True</td>\n",
       "      <td>4</td>\n",
       "    </tr>\n",
       "    <tr>\n",
       "      <th>17</th>\n",
       "      <td>Acceleration</td>\n",
       "      <td>True</td>\n",
       "      <td>False</td>\n",
       "      <td>True</td>\n",
       "      <td>False</td>\n",
       "      <td>True</td>\n",
       "      <td>True</td>\n",
       "      <td>4</td>\n",
       "    </tr>\n",
       "    <tr>\n",
       "      <th>18</th>\n",
       "      <td>Stamina</td>\n",
       "      <td>True</td>\n",
       "      <td>False</td>\n",
       "      <td>False</td>\n",
       "      <td>False</td>\n",
       "      <td>True</td>\n",
       "      <td>True</td>\n",
       "      <td>3</td>\n",
       "    </tr>\n",
       "    <tr>\n",
       "      <th>19</th>\n",
       "      <td>ShotPower</td>\n",
       "      <td>True</td>\n",
       "      <td>False</td>\n",
       "      <td>False</td>\n",
       "      <td>False</td>\n",
       "      <td>True</td>\n",
       "      <td>True</td>\n",
       "      <td>3</td>\n",
       "    </tr>\n",
       "    <tr>\n",
       "      <th>20</th>\n",
       "      <td>Position_RB</td>\n",
       "      <td>False</td>\n",
       "      <td>True</td>\n",
       "      <td>True</td>\n",
       "      <td>True</td>\n",
       "      <td>False</td>\n",
       "      <td>False</td>\n",
       "      <td>3</td>\n",
       "    </tr>\n",
       "    <tr>\n",
       "      <th>21</th>\n",
       "      <td>Position_LCB</td>\n",
       "      <td>False</td>\n",
       "      <td>False</td>\n",
       "      <td>True</td>\n",
       "      <td>True</td>\n",
       "      <td>False</td>\n",
       "      <td>True</td>\n",
       "      <td>3</td>\n",
       "    </tr>\n",
       "    <tr>\n",
       "      <th>22</th>\n",
       "      <td>Position_LAM</td>\n",
       "      <td>True</td>\n",
       "      <td>True</td>\n",
       "      <td>True</td>\n",
       "      <td>False</td>\n",
       "      <td>False</td>\n",
       "      <td>False</td>\n",
       "      <td>3</td>\n",
       "    </tr>\n",
       "    <tr>\n",
       "      <th>23</th>\n",
       "      <td>Position_CM</td>\n",
       "      <td>False</td>\n",
       "      <td>True</td>\n",
       "      <td>True</td>\n",
       "      <td>True</td>\n",
       "      <td>False</td>\n",
       "      <td>False</td>\n",
       "      <td>3</td>\n",
       "    </tr>\n",
       "    <tr>\n",
       "      <th>24</th>\n",
       "      <td>Nationality_Croatia</td>\n",
       "      <td>False</td>\n",
       "      <td>True</td>\n",
       "      <td>True</td>\n",
       "      <td>True</td>\n",
       "      <td>False</td>\n",
       "      <td>False</td>\n",
       "      <td>3</td>\n",
       "    </tr>\n",
       "    <tr>\n",
       "      <th>25</th>\n",
       "      <td>Dribbling</td>\n",
       "      <td>True</td>\n",
       "      <td>False</td>\n",
       "      <td>False</td>\n",
       "      <td>False</td>\n",
       "      <td>True</td>\n",
       "      <td>True</td>\n",
       "      <td>3</td>\n",
       "    </tr>\n",
       "    <tr>\n",
       "      <th>26</th>\n",
       "      <td>Crossing</td>\n",
       "      <td>True</td>\n",
       "      <td>False</td>\n",
       "      <td>False</td>\n",
       "      <td>False</td>\n",
       "      <td>True</td>\n",
       "      <td>True</td>\n",
       "      <td>3</td>\n",
       "    </tr>\n",
       "    <tr>\n",
       "      <th>27</th>\n",
       "      <td>Body Type_Lean</td>\n",
       "      <td>False</td>\n",
       "      <td>False</td>\n",
       "      <td>True</td>\n",
       "      <td>True</td>\n",
       "      <td>False</td>\n",
       "      <td>True</td>\n",
       "      <td>3</td>\n",
       "    </tr>\n",
       "    <tr>\n",
       "      <th>28</th>\n",
       "      <td>Body Type_Courtois</td>\n",
       "      <td>True</td>\n",
       "      <td>True</td>\n",
       "      <td>False</td>\n",
       "      <td>False</td>\n",
       "      <td>True</td>\n",
       "      <td>False</td>\n",
       "      <td>3</td>\n",
       "    </tr>\n",
       "    <tr>\n",
       "      <th>29</th>\n",
       "      <td>Weak Foot</td>\n",
       "      <td>True</td>\n",
       "      <td>False</td>\n",
       "      <td>False</td>\n",
       "      <td>False</td>\n",
       "      <td>True</td>\n",
       "      <td>False</td>\n",
       "      <td>2</td>\n",
       "    </tr>\n",
       "    <tr>\n",
       "      <th>30</th>\n",
       "      <td>Position_RW</td>\n",
       "      <td>False</td>\n",
       "      <td>False</td>\n",
       "      <td>True</td>\n",
       "      <td>True</td>\n",
       "      <td>False</td>\n",
       "      <td>False</td>\n",
       "      <td>2</td>\n",
       "    </tr>\n",
       "  </tbody>\n",
       "</table>\n",
       "</div>"
      ],
      "text/plain": [
       "                   Feature  Pearson  Chi-2    RFE  Logistics  Random Forest  \\\n",
       "1                  Volleys     True   True   True       True           True   \n",
       "2             ShortPassing     True   True   True       True           True   \n",
       "3                Reactions     True   True   True       True           True   \n",
       "4              LongPassing     True   True   True       True           True   \n",
       "5                Finishing     True   True   True       True           True   \n",
       "6              BallControl     True   True   True       True           True   \n",
       "7                 Strength     True  False   True       True           True   \n",
       "8              SprintSpeed     True  False   True       True           True   \n",
       "9     Nationality_Slovenia     True   True   True       True           True   \n",
       "10                 Agility     True  False   True       True           True   \n",
       "11     Nationality_Uruguay     True   True   True       True          False   \n",
       "12       Nationality_Gabon     True   True   True       True          False   \n",
       "13  Nationality_Costa Rica     True   True   True       True          False   \n",
       "14     Nationality_Belgium     True   True   True       True          False   \n",
       "15               LongShots     True   True  False      False           True   \n",
       "16              FKAccuracy     True   True  False      False           True   \n",
       "17            Acceleration     True  False   True      False           True   \n",
       "18                 Stamina     True  False  False      False           True   \n",
       "19               ShotPower     True  False  False      False           True   \n",
       "20             Position_RB    False   True   True       True          False   \n",
       "21            Position_LCB    False  False   True       True          False   \n",
       "22            Position_LAM     True   True   True      False          False   \n",
       "23             Position_CM    False   True   True       True          False   \n",
       "24     Nationality_Croatia    False   True   True       True          False   \n",
       "25               Dribbling     True  False  False      False           True   \n",
       "26                Crossing     True  False  False      False           True   \n",
       "27          Body Type_Lean    False  False   True       True          False   \n",
       "28      Body Type_Courtois     True   True  False      False           True   \n",
       "29               Weak Foot     True  False  False      False           True   \n",
       "30             Position_RW    False  False   True       True          False   \n",
       "\n",
       "    LightGBM  Total  \n",
       "1       True      6  \n",
       "2       True      6  \n",
       "3       True      6  \n",
       "4       True      6  \n",
       "5       True      6  \n",
       "6       True      6  \n",
       "7       True      5  \n",
       "8       True      5  \n",
       "9      False      5  \n",
       "10      True      5  \n",
       "11     False      4  \n",
       "12     False      4  \n",
       "13     False      4  \n",
       "14     False      4  \n",
       "15      True      4  \n",
       "16      True      4  \n",
       "17      True      4  \n",
       "18      True      3  \n",
       "19      True      3  \n",
       "20     False      3  \n",
       "21      True      3  \n",
       "22     False      3  \n",
       "23     False      3  \n",
       "24     False      3  \n",
       "25      True      3  \n",
       "26      True      3  \n",
       "27      True      3  \n",
       "28     False      3  \n",
       "29     False      2  \n",
       "30     False      2  "
      ]
     },
     "execution_count": 152,
     "metadata": {},
     "output_type": "execute_result"
    }
   ],
   "source": [
    "pd.set_option('display.max_rows', None)\n",
    "# put all selection together\n",
    "feature_selection_df = pd.DataFrame({'Feature':feature_name, 'Pearson':cor_support, 'Chi-2':chi_support, 'RFE':rfe_support, 'Logistics':embedded_lr_support,\n",
    "                                    'Random Forest':embedded_rf_support, 'LightGBM':embedded_lgbm_support})\n",
    "# count the selected times for each feature\n",
    "feature_selection_df['Total'] = np.sum(feature_selection_df.iloc[:,1:], axis=1)\n",
    "# display the top 100\n",
    "feature_selection_df = feature_selection_df.sort_values(['Total','Feature'] , ascending=False)\n",
    "feature_selection_df.index = range(1, len(feature_selection_df)+1)\n",
    "feature_selection_df.head(num_feats)"
   ]
  },
  {
   "cell_type": "markdown",
   "metadata": {},
   "source": [
    "## Can you build a Python script that takes dataset and a list of different feature selection methods that you want to try and output the best (maximum votes) features from all methods?"
   ]
  },
  {
   "cell_type": "code",
   "execution_count": 155,
   "metadata": {},
   "outputs": [],
   "source": [
    "def preprocess_dataset(dataset_path):\n",
    "    # selects X and y\n",
    "    data = pd.read_csv(dataset_path)\n",
    "    numcols = ['Overall', 'Crossing','Finishing',  'ShortPassing',  'Dribbling','LongPassing', 'BallControl', 'Acceleration','SprintSpeed', 'Agility',  'Stamina','Volleys','FKAccuracy','Reactions','Balance','ShotPower','Strength','LongShots','Aggression','Interceptions']\n",
    "    catcols = ['Preferred Foot','Position','Body Type','Nationality','Weak Foot']\n",
    "    data = data[numcols+catcols]\n",
    "    traindf = pd.concat([data[numcols], pd.get_dummies(data[catcols])],axis=1)\n",
    "    features = traindf.columns\n",
    "\n",
    "    traindf = traindf.dropna()\n",
    "    traindf = pd.DataFrame(traindf,columns=features)\n",
    "    \n",
    "    y = traindf['Overall']>=87\n",
    "    X = traindf.copy()\n",
    "    del X['Overall']\n",
    "\n",
    "    # number of features to select\n",
    "    num_feats = 30\n",
    "    return X, y, num_feats"
   ]
  },
  {
   "cell_type": "code",
   "execution_count": 157,
   "metadata": {},
   "outputs": [],
   "source": [
    "def autoFeatureSelector(dataset_path, methods=[]):\n",
    "    # Parameters\n",
    "    # data - dataset to be analyzed (csv file)\n",
    "    # methods - various feature selection methods we outlined before, use them all here (list)\n",
    "    \n",
    "    # preprocessing\n",
    "    X, y, num_feats = preprocess_dataset(dataset_path)\n",
    "    features = list(X.columns)\n",
    "    fn = len(features)\n",
    "    \n",
    "    # Run every method we outlined above from the methods list and collect returned best features from every method\n",
    "    if 'pearson' in methods:\n",
    "        cor_support, cor_feature = cor_selector(X, y,num_feats)\n",
    "        for i in range(fn):\n",
    "            if not cor_support[i]:\n",
    "                features[i] = None\n",
    "    if 'chi-square' in methods:\n",
    "        chi_support, chi_feature = chi_squared_selector(X, y,num_feats)\n",
    "        for i in range(fn):\n",
    "            if not chi_support[i]:\n",
    "                features[i] = None\n",
    "    if 'rfe' in methods:\n",
    "        rfe_support, rfe_feature = rfe_selector(X, y,num_feats)\n",
    "        for i in range(fn):\n",
    "            if not rfe_support[i]:\n",
    "                features[i] = None\n",
    "    if 'log-reg' in methods:\n",
    "        embedded_lr_support, embedded_lr_feature = embedded_log_reg_selector(X, y, num_feats)\n",
    "        for i in range(fn):\n",
    "            if not embedded_lr_support[i]:\n",
    "                features[i] = None\n",
    "    if 'rf' in methods:\n",
    "        embedded_rf_support, embedded_rf_feature = embedded_rf_selector(X, y, num_feats)\n",
    "        for i in range(fn):\n",
    "            if not embedded_rf_support[i]:\n",
    "                features[i] = None\n",
    "    if 'lgbm' in methods:\n",
    "        embedded_lgbm_support, embedded_lgbm_feature = embedded_lgbm_selector(X, y, num_feats)\n",
    "        for i in range(fn):\n",
    "            if not embedded_lgbm_support[i]:\n",
    "                features[i] = None\n",
    "    \n",
    "    \n",
    "    # Combine all the above feature list and count the maximum set of features that got selected by all methods\n",
    "    best_features = list(filter(None, features))\n",
    "    \n",
    "    return best_features"
   ]
  },
  {
   "cell_type": "code",
   "execution_count": 159,
   "metadata": {},
   "outputs": [
    {
     "name": "stdout",
     "output_type": "stream",
     "text": [
      "[LightGBM] [Info] Number of positive: 55, number of negative: 18104\n",
      "[LightGBM] [Info] Auto-choosing col-wise multi-threading, the overhead of testing was 0.004108 seconds.\n",
      "You can set `force_col_wise=true` to remove the overhead.\n",
      "[LightGBM] [Info] Total Bins 1801\n",
      "[LightGBM] [Info] Number of data points in the train set: 18159, number of used features: 124\n",
      "[LightGBM] [Info] [binary:BoostFromScore]: pavg=0.003029 -> initscore=-5.796555\n",
      "[LightGBM] [Info] Start training from score -5.796555\n",
      "[LightGBM] [Warning] No further splits with positive gain, best gain: -inf\n",
      "[LightGBM] [Warning] No further splits with positive gain, best gain: -inf\n",
      "[LightGBM] [Warning] No further splits with positive gain, best gain: -inf\n",
      "[LightGBM] [Warning] No further splits with positive gain, best gain: -inf\n",
      "[LightGBM] [Warning] No further splits with positive gain, best gain: -inf\n",
      "[LightGBM] [Warning] No further splits with positive gain, best gain: -inf\n",
      "[LightGBM] [Warning] No further splits with positive gain, best gain: -inf\n",
      "[LightGBM] [Warning] No further splits with positive gain, best gain: -inf\n",
      "[LightGBM] [Warning] No further splits with positive gain, best gain: -inf\n"
     ]
    },
    {
     "data": {
      "text/plain": [
       "['Finishing',\n",
       " 'ShortPassing',\n",
       " 'LongPassing',\n",
       " 'BallControl',\n",
       " 'Volleys',\n",
       " 'Reactions']"
      ]
     },
     "execution_count": 159,
     "metadata": {},
     "output_type": "execute_result"
    }
   ],
   "source": [
    "best_features = autoFeatureSelector(dataset_path=\"fifa19.csv\", methods=['pearson', 'chi-square', 'rfe', 'log-reg', 'rf', 'lgbm'])\n",
    "best_features"
   ]
  },
  {
   "cell_type": "markdown",
   "metadata": {},
   "source": [
    "### Last, Can you turn this notebook into a python script, run it and submit the python (.py) file that takes dataset and list of methods as inputs and outputs the best features"
   ]
  },
  {
   "cell_type": "code",
   "execution_count": null,
   "metadata": {},
   "outputs": [],
   "source": [
    "# yes, i can do that"
   ]
  }
 ],
 "metadata": {
  "kernelspec": {
   "display_name": "Python [conda env:base] *",
   "language": "python",
   "name": "conda-base-py"
  },
  "language_info": {
   "codemirror_mode": {
    "name": "ipython",
    "version": 3
   },
   "file_extension": ".py",
   "mimetype": "text/x-python",
   "name": "python",
   "nbconvert_exporter": "python",
   "pygments_lexer": "ipython3",
   "version": "3.12.7"
  }
 },
 "nbformat": 4,
 "nbformat_minor": 4
}
